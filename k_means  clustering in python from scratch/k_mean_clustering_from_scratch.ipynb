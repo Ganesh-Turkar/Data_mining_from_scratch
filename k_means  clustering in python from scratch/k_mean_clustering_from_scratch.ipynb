{
  "nbformat": 4,
  "nbformat_minor": 0,
  "metadata": {
    "colab": {
      "name": "k mean clustering from scratch.ipynb",
      "provenance": [],
      "collapsed_sections": [],
      "authorship_tag": "ABX9TyMR+GW4xTvy62JjquXC5YeM",
      "include_colab_link": true
    },
    "kernelspec": {
      "name": "python3",
      "display_name": "Python 3"
    },
    "language_info": {
      "name": "python"
    }
  },
  "cells": [
    {
      "cell_type": "markdown",
      "metadata": {
        "id": "view-in-github",
        "colab_type": "text"
      },
      "source": [
        "<a href=\"https://colab.research.google.com/github/Ganesh-Turkar/Data_mining_from_scratch/blob/master/k_means%20%20clustering%20in%20python%20from%20scratch/k_mean_clustering_from_scratch.ipynb\" target=\"_parent\"><img src=\"https://colab.research.google.com/assets/colab-badge.svg\" alt=\"Open In Colab\"/></a>"
      ]
    },
    {
      "cell_type": "code",
      "execution_count": null,
      "metadata": {
        "colab": {
          "base_uri": "https://localhost:8080/"
        },
        "id": "8p8Qleo7T_DT",
        "outputId": "e510a8dd-2280-4841-a2c9-2d3c3260eb00"
      },
      "outputs": [
        {
          "output_type": "stream",
          "name": "stdout",
          "text": [
            "Euclidean distance\n",
            "[0.0, 5.0, 4.47213595499958, 1.4142135623730951, 3.1622776601683795, 4.123105625617661, 3.0, 2.23606797749979]\n",
            "[5.0, 0.0, 2.23606797749979, 6.082762530298219, 2.23606797749979, 5.656854249492381, 5.830951894845301, 4.47213595499958]\n",
            "centroid11 7.8 centroid11 5.0\n",
            "centroid21 4.0 centroid22 8.0\n",
            "Euclidean distance\n",
            "[2.009975124224178, 5.2, 5.517245689653488, 1.562049935181331, 4.1036569057366385, 2.1540659228538015, 1.019803902718557, 0.7999999999999998]\n",
            "[4.123105625617661, 1.4142135623730951, 1.0, 5.385164807134504, 1.0, 5.830951894845301, 5.656854249492381, 4.242640687119285]\n",
            "centroid11 7.8 centroid11 5.0\n",
            "centroid21 4.0 centroid22 8.0\n",
            "Value of centroids are same at iteration :  2\n"
          ]
        }
      ],
      "source": [
        "x = [8,3,4,9,5,7,8,7]\n",
        "y = [7,7,9,6,8,3,4,5]\n",
        "c1 = [8,7]  #initial first clusture values x[0]y[0]\n",
        "c2 = [3,7]  #initial second clusture values x[1]y[1]\n",
        "\n",
        "def kmean(x,y,c1,c2):\n",
        "  temp11=[0 for i in range(len(x))]\n",
        "  temp12 =[0 for i in range(len(x))]\n",
        "  temp21=[0 for i in range(len(x))]\n",
        "  temp22 =[0 for i in range(len(x))]\n",
        "  centroid11=[]\n",
        "  centroid12=[]\n",
        "  centroid21=[]\n",
        "  centroid22=[]\n",
        "  print(\"Euclidean distance\")\n",
        "  for i in range(len(x)):\n",
        "\n",
        "    temp11[i] = (((x[i]-c1[0])**2)+((y[i]-c1[1])**2))** 0.5  #finding Euclidean distance\n",
        "    temp12[i] = (((x[i]-c2[0])**2)+((y[i]-c2[1])**2))** 0.5\n",
        "  print(temp11)\n",
        "  print(temp12)\n",
        "  for j in range(len(x)):  #comparing which data will go in which clusture\n",
        "    if temp11[j]<= temp12[j]:\n",
        "      centroid11.append(x[j])\n",
        "      centroid12.append(y[j])\n",
        "    else:\n",
        "      centroid21.append(x[j])\n",
        "      centroid22.append(y[j])\n",
        "\n",
        "  centroid11 = round((sum(centroid11)/len(centroid11)),2)  #calculating new centroid value\n",
        "  centroid12 = round((sum(centroid12)/len(centroid12)),2)\n",
        "  centroid21 = round((sum(centroid21)/len(centroid21)),2)\n",
        "  centroid22 = round((sum(centroid22)/len(centroid22)),2)\n",
        "  print(\"centroid11\",centroid11 ,\"centroid11\", centroid12)\n",
        "  print(\"centroid21\",centroid21,\"centroid22\",centroid22)\n",
        "\n",
        "  return centroid11,centroid12,centroid21,centroid22\n",
        "\n",
        "for i in range(10):   # i had seted here max rounds = 10\n",
        "  centroid11,centroid12,centroid21,centroid22 = kmean(x,y,c1,c2)\n",
        "  new_c1= [centroid11,centroid12]\n",
        "  new_c2 = [centroid21,centroid22]\n",
        "  if c1==new_c1 and c2 ==new_c2:  #it will stop where it will gwt same centrsoids\n",
        "    print(\"Value of centroids are same at iteration : \",i+1)\n",
        "    break\n",
        "  else:\n",
        "    c1 = new_c1\n",
        "    c2= new_c2"
      ]
    }
  ]
}